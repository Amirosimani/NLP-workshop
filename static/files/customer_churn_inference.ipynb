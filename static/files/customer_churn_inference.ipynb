{
 "cells": [
  {
   "cell_type": "code",
   "execution_count": null,
   "metadata": {},
   "outputs": [],
   "source": [
    "region = 'us-east-2'\n",
    "endpoint='ENDPOINT'\n",
    "threshold = 0.5\n",
    "bucket = 'BUCKET'\n",
    "prefix = 'kubeflow-batch/in'"
   ]
  },
  {
   "cell_type": "code",
   "execution_count": null,
   "metadata": {},
   "outputs": [],
   "source": [
    "import boto3\n",
    "client = boto3.client('sagemaker-runtime', region_name=region)"
   ]
  },
  {
   "cell_type": "code",
   "execution_count": null,
   "metadata": {},
   "outputs": [],
   "source": [
    "import numpy as np\n",
    "test_data = np.load('test_data.npy')\n",
    "test_labels = np.load('test_labels.npy')"
   ]
  },
  {
   "cell_type": "markdown",
   "metadata": {},
   "source": [
    "We need a JSON serializer, so let's reuse one from the [SageMaker Python SDK](https://github.com/aws/sagemaker-python-sdk/blob/master/src/sagemaker/predictor.py).  I've copied relevant bits of the code below, but we could install the SageMaker Python module and import it instead."
   ]
  },
  {
   "cell_type": "code",
   "execution_count": null,
   "metadata": {},
   "outputs": [],
   "source": [
    "import json\n",
    "import six\n",
    "\n",
    "def _ndarray_to_list(data):\n",
    "    \"\"\"\n",
    "    Args:\n",
    "        data:\n",
    "    \"\"\"\n",
    "    return data.tolist() if isinstance(data, np.ndarray) else data\n",
    "\n",
    "def _json_serialize_from_buffer(buff):\n",
    "    \"\"\"\n",
    "    Args:\n",
    "        buff:\n",
    "    \"\"\"\n",
    "    return buff.read()\n",
    "\n",
    "def json_serial(data):\n",
    "\n",
    "    if isinstance(data, dict):\n",
    "        # convert each value in dict from a numpy array to a list if necessary, so they can be\n",
    "        # json serialized\n",
    "        return json.dumps({k: _ndarray_to_list(v) for k, v in six.iteritems(data)})\n",
    "\n",
    "    # files and buffers\n",
    "    if hasattr(data, \"read\"):\n",
    "        return _json_serialize_from_buffer(data)\n",
    "\n",
    "    return json.dumps(_ndarray_to_list(data))"
   ]
  },
  {
   "cell_type": "code",
   "execution_count": null,
   "metadata": {},
   "outputs": [],
   "source": [
    "def predict(data):\n",
    "    \n",
    "    response = client.invoke_endpoint(\n",
    "            EndpointName = endpoint,\n",
    "            Body=json_serial(data),\n",
    "            ContentType='application/json'\n",
    "        )\n",
    "    body = response['Body'].read().decode()\n",
    "    j = json.loads(body)\n",
    "    return j['predictions'][0][0]"
   ]
  },
  {
   "cell_type": "code",
   "execution_count": null,
   "metadata": {},
   "outputs": [],
   "source": [
    "preds = []\n",
    "for i in range(0, len(test_labels)):\n",
    "    pred = predict(test_data[i])\n",
    "    label = test_labels[i]\n",
    "    if pred > threshold:\n",
    "        pred = 1\n",
    "    else:\n",
    "        pred = 0\n",
    "    preds.append(pred)"
   ]
  },
  {
   "cell_type": "code",
   "execution_count": null,
   "metadata": {},
   "outputs": [],
   "source": [
    "import pandas as pd\n",
    "from sklearn.metrics import confusion_matrix,classification_report\n",
    "confusion_matrix(preds, test_labels)"
   ]
  },
  {
   "cell_type": "code",
   "execution_count": null,
   "metadata": {},
   "outputs": [],
   "source": [
    "print(classification_report(preds, test_labels))"
   ]
  },
  {
   "cell_type": "markdown",
   "metadata": {},
   "source": [
    "## Transform to JSON\n",
    "\n",
    "In preparation for the next section, we're going to save our data in JSON format."
   ]
  },
  {
   "cell_type": "code",
   "execution_count": null,
   "metadata": {},
   "outputs": [],
   "source": [
    "json_records = []\n",
    "for i in range(0, len(test_labels)):\n",
    "    j = json_serial(test_data[i])\n",
    "    json_records.append(j)"
   ]
  },
  {
   "cell_type": "code",
   "execution_count": null,
   "metadata": {},
   "outputs": [],
   "source": [
    "with open(\"batch_records.json\", \"w\") as json_file:\n",
    "    for j in json_records:\n",
    "        json_file.write(j)\n",
    "        json_file.write(\"\\n\")"
   ]
  },
  {
   "cell_type": "code",
   "execution_count": null,
   "metadata": {},
   "outputs": [],
   "source": [
    "import os\n",
    "\n",
    "s3 = boto3.client('s3')\n",
    "s3.upload_file('batch_records.json', bucket, os.path.join(prefix, 'batch_records.json'))"
   ]
  }
 ],
 "metadata": {
  "kernelspec": {
   "display_name": "Python 3",
   "language": "python",
   "name": "python3"
  },
  "language_info": {
   "codemirror_mode": {
    "name": "ipython",
    "version": 3
   },
   "file_extension": ".py",
   "mimetype": "text/x-python",
   "name": "python",
   "nbconvert_exporter": "python",
   "pygments_lexer": "ipython3",
   "version": "3.6.9"
  }
 },
 "nbformat": 4,
 "nbformat_minor": 4
}
